{
  "cells": [
    {
      "cell_type": "code",
      "execution_count": null,
      "metadata": {
        "id": "lnyLTyUt0ukN"
      },
      "outputs": [],
      "source": [
        "import os\n",
        "import time\n",
        "from PIL import Image\n",
        "import numpy as np\n",
        "import tensorflow as tf\n",
        "import tensorflow_hub as hub\n",
        "import matplotlib.pyplot as plt\n",
        "import tqdm as tqdm\n",
        "os.environ[\"TFHUB_DOWNLOAD_PROGRESS\"] = \"True\"\n",
        "import gc\n",
        "import pathlib"
      ]
    },
    {
      "cell_type": "code",
      "execution_count": null,
      "metadata": {
        "colab": {
          "base_uri": "https://localhost:8080/"
        },
        "id": "RiMuEMOEY6AQ",
        "outputId": "1a7a4014-7f44-4542-ce68-a8037c87b2a2"
      },
      "outputs": [
        {
          "output_type": "stream",
          "name": "stdout",
          "text": [
            "Mounted at /content/gdrive\n"
          ]
        }
      ],
      "source": [
        "from google.colab import drive\n",
        "drive.mount('/content/gdrive')"
      ]
    },
    {
      "cell_type": "code",
      "execution_count": null,
      "metadata": {
        "id": "DXot2kru0ukh"
      },
      "outputs": [],
      "source": [
        "SAVED_MODEL_PATH = \"https://tfhub.dev/captain-pool/esrgan-tf2/1\""
      ]
    },
    {
      "cell_type": "code",
      "execution_count": null,
      "metadata": {
        "id": "M07-LgAzKv1g"
      },
      "outputs": [],
      "source": [
        "# legacy function to load unglobbed dataset\n",
        "def load_image(image_path):\n",
        "  input_image = tf.image.decode_image(tf.io.read_file(image_path))\n",
        "  if input_image.shape[-1] == 4:\n",
        "    input_image = input_image[...,:-1]\n",
        "  input_image = tf.cast(input_image, tf.float32)\n",
        "  return tf.expand_dims(input_image,0)"
      ]
    },
    {
      "cell_type": "code",
      "execution_count": null,
      "metadata": {
        "id": "PXmX7VBjj7fW"
      },
      "outputs": [],
      "source": [
        "# directory_path = \"/content/gdrive/My Drive/planegan/sample_output_3/\"\n",
        "# image_lst = []\n",
        "# for file in os.listdir(directory_path):\n",
        "#  add_image = load_image(os.path.join(directory_path,file))\n",
        "#  image_lst.append(add_image)"
      ]
    },
    {
      "cell_type": "code",
      "source": [
        "#function to load a globbed image dataset\n",
        "def load_custom_image_set(dataroot,directorylevels):\n",
        "    #image parse function\n",
        "    def parse_image(filename):\n",
        "        parts = tf.strings.split(filename, os.sep)\n",
        "        label = parts[-2]\n",
        "        image = tf.io.read_file(filename)\n",
        "        image = tf.io.decode_jpeg(image)\n",
        "        image = tf.image.convert_image_dtype(image, tf.float32)\n",
        "        image = image[...,:-1]\n",
        "        image = (image * 255)\n",
        "        return tf.expand_dims(image,0), label\n",
        "\n",
        "    data_root = pathlib.Path(dataroot)\n",
        "    if directorylevels == 1:\n",
        "      list_ds = tf.data.Dataset.list_files(str(data_root/'*/*'))\n",
        "    if directorylevels == 2:\n",
        "      list_ds = tf.data.Dataset.list_files(str(data_root/'*/*/*'))\n",
        "    images_ds = list_ds.map(parse_image)\n",
        "    #https://stackoverflow.com/questions/70535683/extract-data-from-tensorflow-dataset-e-g-to-numpy\n",
        "    images = np.asarray(list(images_ds.map(lambda x, y: x)))\n",
        "    return images"
      ],
      "metadata": {
        "id": "h-Rw9vT_AIc2"
      },
      "execution_count": null,
      "outputs": []
    },
    {
      "cell_type": "code",
      "source": [
        "# load globbed directory image data\n",
        "image_path = \"/content/gdrive/My Drive/planegan/glob_dir/\"\n",
        "directorylevels = 1\n",
        "image_lst = load_custom_image_set(image_path,directorylevels)"
      ],
      "metadata": {
        "id": "fPkYilcSAa_F"
      },
      "execution_count": null,
      "outputs": []
    },
    {
      "cell_type": "code",
      "execution_count": null,
      "metadata": {
        "id": "ouwEyKLA0ulO"
      },
      "outputs": [],
      "source": [
        "model = hub.load(SAVED_MODEL_PATH)"
      ]
    },
    {
      "cell_type": "code",
      "execution_count": null,
      "metadata": {
        "colab": {
          "base_uri": "https://localhost:8080/"
        },
        "id": "dz79ncnT0ulX",
        "outputId": "2b3a1add-ab01-4165-d0c1-65340e8b31d1"
      },
      "outputs": [
        {
          "output_type": "stream",
          "name": "stdout",
          "text": [
            "Time Taken: 30.834551\n",
            "Time Taken: 60.913351\n"
          ]
        }
      ],
      "source": [
        "start = time.time()\n",
        "counter = 0\n",
        "for idx in range(len(image_lst)):\n",
        "  fake_image = model(image_lst[idx])\n",
        "  fake_image = tf.squeeze(fake_image)\n",
        "  image = np.asarray(fake_image)\n",
        "  image = tf.clip_by_value(image, 0, 255)\n",
        "  image = Image.fromarray(tf.cast(image, tf.uint8).numpy())\n",
        "  plt.figure(figsize=(21,30))\n",
        "  plt.imshow(image)\n",
        "  plt.axis('off')\n",
        "  filename = '/content/gdrive/My Drive/planegan/sample_output_3a/generated_plot_%05d.png' % (counter+1)\n",
        "  plt.savefig(filename, transparent=True,bbox_inches=\"tight\",pad_inches=0.0 )\n",
        "  plt.close()\n",
        "  counter += 1\n",
        "  print(\"Time Taken: %f\" % (time.time() - start))\n",
        "\n"
      ]
    },
    {
      "cell_type": "code",
      "execution_count": null,
      "metadata": {
        "id": "txUbqMdk7fsW"
      },
      "outputs": [],
      "source": [
        "from google.colab import runtime\n",
        "runtime.unassign()"
      ]
    }
  ],
  "metadata": {
    "colab": {
      "machine_shape": "hm",
      "provenance": []
    },
    "gpuClass": "standard",
    "kernelspec": {
      "display_name": "Python 3",
      "name": "python3"
    },
    "language_info": {
      "codemirror_mode": {
        "name": "ipython",
        "version": 3
      },
      "file_extension": ".py",
      "mimetype": "text/x-python",
      "name": "python",
      "nbconvert_exporter": "python",
      "pygments_lexer": "ipython3",
      "version": "3.5.2"
    }
  },
  "nbformat": 4,
  "nbformat_minor": 0
}