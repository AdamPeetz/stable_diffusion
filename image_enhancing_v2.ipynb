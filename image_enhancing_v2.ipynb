{
  "cells": [
    {
      "cell_type": "markdown",
      "metadata": {
        "id": "view-in-github",
        "colab_type": "text"
      },
      "source": [
        "<a href=\"https://colab.research.google.com/github/AdamPeetz/stable_diffusion/blob/main/image_enhancing_v2.ipynb\" target=\"_parent\"><img src=\"https://colab.research.google.com/assets/colab-badge.svg\" alt=\"Open In Colab\"/></a>"
      ]
    },
    {
      "cell_type": "code",
      "execution_count": 20,
      "metadata": {
        "id": "lnyLTyUt0ukN"
      },
      "outputs": [],
      "source": [
        "import os\n",
        "import time\n",
        "from PIL import Image\n",
        "import numpy as np\n",
        "import tensorflow as tf\n",
        "import tensorflow_hub as hub\n",
        "import matplotlib.pyplot as plt\n",
        "os.environ[\"TFHUB_DOWNLOAD_PROGRESS\"] = \"True\""
      ]
    },
    {
      "cell_type": "code",
      "source": [
        "from google.colab import drive \n",
        "drive.mount('/content/gdrive')"
      ],
      "metadata": {
        "colab": {
          "base_uri": "https://localhost:8080/"
        },
        "id": "RiMuEMOEY6AQ",
        "outputId": "a6e99348-63f4-4106-89bc-34002e26ac9e"
      },
      "execution_count": 2,
      "outputs": [
        {
          "output_type": "stream",
          "name": "stdout",
          "text": [
            "Mounted at /content/gdrive\n"
          ]
        }
      ]
    },
    {
      "cell_type": "code",
      "execution_count": 16,
      "metadata": {
        "id": "DXot2kru0ukh"
      },
      "outputs": [],
      "source": [
        "SAVED_MODEL_PATH = \"https://tfhub.dev/captain-pool/esrgan-tf2/1\""
      ]
    },
    {
      "cell_type": "markdown",
      "metadata": {
        "id": "KF_tHde-p3rn"
      },
      "source": [
        "**Defining Helper Functions**"
      ]
    },
    {
      "cell_type": "code",
      "source": [
        "def load_image(image_path):\n",
        "  input_image = tf.image.decode_image(tf.io.read_file(image_path))\n",
        "  if input_image.shape[-1] == 4:\n",
        "    input_image = input_image[...,:-1]\n",
        "  input_image = tf.cast(input_image, tf.float32)\n",
        "  return tf.expand_dims(input_image,0)"
      ],
      "metadata": {
        "id": "M07-LgAzKv1g"
      },
      "execution_count": 21,
      "outputs": []
    },
    {
      "cell_type": "code",
      "source": [
        "directory_path = \"/content/gdrive/My Drive/planegan/sample_output_2/\"\n",
        "image_lst = []\n",
        "for file in os.listdir(directory_path):\n",
        "  add_image = load_image(os.path.join(directory_path,file))\n",
        "  image_lst.append(add_image)"
      ],
      "metadata": {
        "id": "PXmX7VBjj7fW"
      },
      "execution_count": 22,
      "outputs": []
    },
    {
      "cell_type": "code",
      "source": [
        "image_lst[1]"
      ],
      "metadata": {
        "id": "Fml4XTPJK-ya"
      },
      "execution_count": null,
      "outputs": []
    },
    {
      "cell_type": "markdown",
      "metadata": {
        "id": "ycrCTvmlqBMD"
      },
      "source": [
        "#### Performing Super Resolution of images loaded from path"
      ]
    },
    {
      "cell_type": "code",
      "execution_count": 17,
      "metadata": {
        "id": "ouwEyKLA0ulO",
        "colab": {
          "base_uri": "https://localhost:8080/"
        },
        "outputId": "f9f7c24d-59b9-4510-87d7-0500a5514b50"
      },
      "outputs": [
        {
          "output_type": "stream",
          "name": "stdout",
          "text": [
            "Downloaded https://tfhub.dev/captain-pool/esrgan-tf2/1, Total size: 20.60MB\n",
            "\n"
          ]
        }
      ],
      "source": [
        "model = hub.load(SAVED_MODEL_PATH)"
      ]
    },
    {
      "cell_type": "code",
      "execution_count": null,
      "metadata": {
        "id": "dz79ncnT0ulX"
      },
      "outputs": [],
      "source": [
        "start = time.time()\n",
        "counter = 0\n",
        "for idx in range(len(image_lst)):\n",
        "  fake_image = model(image_lst[idx])\n",
        "  fake_image = tf.squeeze(fake_image)\n",
        "  image = np.asarray(fake_image)\n",
        "  image = tf.clip_by_value(image, 0, 255)\n",
        "  image = Image.fromarray(tf.cast(image, tf.uint8).numpy())\n",
        "  plt.figure(figsize=(20,20))\n",
        "  plt.imshow(image)\n",
        "  plt.axis('off')\n",
        "  filename = '/content/gdrive/My Drive/planegan/sample_output_2/generated_plot_%05d.png' % (counter+1)\n",
        "  plt.savefig(filename, transparent=True,bbox_inches=\"tight\",pad_inches=0.0 )\n",
        "  plt.close()\n",
        "  counter += 1\n",
        "print(\"Time Taken: %f\" % (time.time() - start))"
      ]
    }
  ],
  "metadata": {
    "colab": {
      "machine_shape": "hm",
      "provenance": [],
      "toc_visible": true,
      "include_colab_link": true
    },
    "kernelspec": {
      "display_name": "Python 3",
      "name": "python3"
    },
    "language_info": {
      "codemirror_mode": {
        "name": "ipython",
        "version": 3
      },
      "file_extension": ".py",
      "mimetype": "text/x-python",
      "name": "python",
      "nbconvert_exporter": "python",
      "pygments_lexer": "ipython3",
      "version": "3.5.2"
    },
    "gpuClass": "standard"
  },
  "nbformat": 4,
  "nbformat_minor": 0
}